{
 "cells": [
  {
   "cell_type": "markdown",
   "metadata": {},
   "source": [
    "# CADS Algorithmic Trading Project\n",
    "\n",
    "**We will focus on the basics of algorithmic trading for this project. The goal of this project will be to see if we can develop simple algorithms that can generate a positive return. This goal will be left open-ended for now as we will all be learning all the techniques as we go along.**\n",
    "\n",
    "**The following link will introduce you to what algorithmic trading is about: [Basics of algorithmic trading: Concepts and examples](https://www.investopedia.com/articles/active-trading/101014/basics-algorithmic-trading-concepts-and-examples.asp). Please read this before starting!** "
   ]
  },
  {
   "cell_type": "markdown",
   "metadata": {},
   "source": [
    "## Setup\n",
    "\n",
    "You will need to install Python 3 and Jupyter notebooks first in order to view this notebook file. To get Python 3, head over to [Python's website](https://www.python.org/downloads/) and install the most-recent version available for your computer. If you use a package manager for Linux (e.g. apt-get), MacOS (e.g. [Homebrew](https://brew.sh)), or Windows (e.g. [chocolatey](https://chocolatey.org)), you can use that to install Python 3 as well. Please see their resepctive websites for more info on how to do that."
   ]
  },
  {
   "cell_type": "markdown",
   "metadata": {},
   "source": [
    "### 0. OPTIONAL --- Use a Virtual Environment\n"
   ]
  }
 ],
 "metadata": {
  "kernelspec": {
   "display_name": "Python 3",
   "language": "python",
   "name": "python3"
  },
  "language_info": {
   "codemirror_mode": {
    "name": "ipython",
    "version": 3
   },
   "file_extension": ".py",
   "mimetype": "text/x-python",
   "name": "python",
   "nbconvert_exporter": "python",
   "pygments_lexer": "ipython3",
   "version": "3.7.2"
  }
 },
 "nbformat": 4,
 "nbformat_minor": 2
}
