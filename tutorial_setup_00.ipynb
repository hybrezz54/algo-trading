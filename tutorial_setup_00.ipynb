{
 "cells": [
  {
   "cell_type": "markdown",
   "metadata": {},
   "source": [
    "# CADS Algorithmic Trading Project\n",
    "\n",
    "**We will focus on the basics of algorithmic trading for this project. The goal of this project will be to see if we can develop simple algorithms that can generate a positive return. This goal will be left open-ended for now as we will all be learning all the techniques as we go along.**\n",
    "\n",
    "**The following link will introduce you to what algorithmic trading is about: [Basics of algorithmic trading: Concepts and examples](https://www.investopedia.com/articles/active-trading/101014/basics-algorithmic-trading-concepts-and-examples.asp). Please read this before starting!** "
   ]
  },
  {
   "cell_type": "markdown",
   "metadata": {},
   "source": [
    "### Requirements\n",
    "You should already have some experience with:\n",
    " - Python (We will be using Python 3)\n",
    "  - Pandas\n",
    "  - Jupyter Notebook (You will be able to learn this easily as you go)\n",
    "  - Matplotlib (You will be able to learn this easily as you go)\n",
    "  \n",
    "It's perfectly ok if you are not familiar with any of the above! I will provide you with resources and feel free to ask me or your peers with any questions. Helpful links and resources will also be provided in the bottom of this notebook."
   ]
  },
  {
   "cell_type": "markdown",
   "metadata": {},
   "source": [
    "### What We Will be Learning\n",
    " - Some statistics concepts (only will touch on relevant to quant/finance)\n",
    " - Some economics concepts (only will touch on relevant to quant/finance)\n",
    " - Algorithmic development\n",
    " - Use external datasets and APIs\n",
    " - Data Processing and Analysis\n",
    " \n",
    "We will not extensively cover each topic, only enough to get you familiar with the basics of algorithmic trading."
   ]
  },
  {
   "cell_type": "markdown",
   "metadata": {},
   "source": [
    "## Setup\n",
    "\n",
    "You will need to install Python 3 and Jupyter notebooks first in order to view this notebook file. To get Python 3, head over to [Python's website](https://www.python.org/downloads/) and install the most-recent version available for your computer. If you use a package manager for Linux (e.g. apt-get), MacOS (e.g. [Homebrew](https://brew.sh)), or Windows (e.g. [chocolatey](https://chocolatey.org)), you can use that to install Python 3 as well. Please see their resepctive websites for more info on how to do that."
   ]
  },
  {
   "cell_type": "markdown",
   "metadata": {},
   "source": [
    "### 0. OPTIONAL --- Use a Virtual Environment\n",
    "\n",
    "You can use a virtual environment if you wish. Virtual environments make it easier to organize all your project's dependencies and packages. In Python 3, venv/virtualenv, pipenv, and autoenv are available among many others. I will show you how to use [virtualenvwrapper](https://virtualenvwrapper.readthedocs.io/en/latest/install.html), which is built on top of venv/virtualenv.\n",
    "\n",
    "#### 1. Install virtualenvwrapper\n",
    "Type the following into your console:\n",
    "```pip install virtualenvwrapper``` <br />\n",
    "If you are on a Windows machine, instead, do ```pip install virtualenvwrapper-win```\n",
    "\n",
    "#### 2. Create appropriate directories\n",
    "Create a directory in your home folder to contain all of your virtual environments. In your console, just type ```mdkir ~/Envs```\n",
    "\n",
    "#### 3. Run script on startup\n",
    "Edit your ```~/.bashrc``` file to include the following:\n",
    "```\n",
    "export WORKON_HOME=~/Envs\n",
    "source /usr/local/bin/virtualenvwrapper.sh\n",
    "```\n",
    "Now, everytime you start a new console, virtualenvwrapper will be set and ready to go! Note: this step will probably be different on Windows. Please head over to this [site](https://virtualenvwrapper.readthedocs.io/en/latest/install.html) for instructions and troubleshooting.\n",
    "\n",
    "#### 4. Learn commands\n",
    " - ```mkvirtualenv [env_name]``` creates a new virtual environment with the specified name.\n",
    " - ```workon [env_name]``` to start working on a new virtual environment with the specified name.\n",
    " - ```lsvirtualenv``` lists all the virtual environments that you have created.\n",
    " - ```deactivate``` stops working in the current virutal environment.\n",
    " \n",
    " There are more commands available that you can find online, but this is enough to get you started."
   ]
  },
  {
   "cell_type": "markdown",
   "metadata": {},
   "source": [
    "### 1. Install Dependencies\n",
    "You will need to install the following packages for this project:\n",
    "\n",
    "#### Jupyter Notebook\n",
    "You should already have it installed especially so you can see this file. Jupyter notebook is basically an environment for you to organize your code. To install it, in your console, type the following:\n",
    "```pip install jupyter```\n",
    "\n",
    "#### Pandas\n",
    "Pandas is a package that makes it easier analyze your data with statistics and tabular/matrix manipulation. To install it, in your console, type the following:\n",
    "```pip install pandas```\n",
    "\n",
    "#### Matplotlib\n",
    "Matplotlib is a package that aids in graphing your data in a variety of plots. To install it, in your console, type the following:\n",
    "```pip install matplotlib```\n",
    "\n",
    "#### Seaborn (optional)\n",
    "Seaborn is a package built on top of matplotlib to make your graphs look even nicer with more diverse coloring options and ability to view multiple, different plots side-by-side. To install it, in your console, type the following:\n",
    "```pip install seaborn```\n",
    "\n",
    "<br />\n",
    "\n",
    "**You can also alternatively install all the necessary packages by downloading *requirements.txt* from the repository and running ```pip install -r requirements.txt```**"
   ]
  },
  {
   "cell_type": "markdown",
   "metadata": {},
   "source": [
    "### Learn\n",
    "If you are unfamiliar with Python and its packages, please use the following resources as a guide to help you along.\n",
    " - [Python 3 Documentation](https://docs.python.org/3/)\n",
    " - [Python 3 Tutorial - Python.org](https://docs.python.org/3/tutorial/)\n",
    " - [Python 3 Tutorial - Tutorialspoint](https://www.tutorialspoint.com/python3/)\n",
    " - [Python Tutorial - Corey Schafer](https://www.youtube.com/watch?v=YYXdXT2l-Gg&list=PL-osiE80TeTt2d9bfVyTiXJA-UTHn6WwU)\n",
    " - [Python Tutorial - Data36](https://data36.com/python-for-data-science-python-basics-1/)\n",
    " - [Pandas Tutorial - Data36](https://data36.com/pandas-tutorial-1-basics-reading-data-files-dataframes-data-selection/)\n",
    " - [Pandas Tutorial - LearnPython](https://www.learnpython.org/en/Pandas_Basics)\n",
    " - [Jupyter Notebook Tutorial - Corey Schafer](https://www.youtube.com/watch?v=HW29067qVWk)\n",
    " - **[Automate the Boring Stuff with Python](https://www.youtube.com/watch?v=YYXdXT2l-Gg&list=PL-osiE80TeTt2d9bfVyTiXJA-UTHn6WwU) (highly recommended!!!)**\n",
    " - [Matplotlib Tutorial - Datacamp](https://www.datacamp.com/community/tutorials/matplotlib-tutorial-python)\n",
    " - [Seaborn Tutorial - Datacamp](https://www.datacamp.com/community/tutorials/seaborn-python-tutorial)\n"
   ]
  },
  {
   "cell_type": "markdown",
   "metadata": {},
   "source": [
    "## Questions\n",
    "If you need to troubleshoot or need help, feel free to send me a message on the Carolina Analytics & Data Science Slack or email me at [hamzahch@unc.edu](mailto:hamzahch@unc.edu)."
   ]
  }
 ],
 "metadata": {
  "kernelspec": {
   "display_name": "Python 3",
   "language": "python",
   "name": "python3"
  },
  "language_info": {
   "codemirror_mode": {
    "name": "ipython",
    "version": 3
   },
   "file_extension": ".py",
   "mimetype": "text/x-python",
   "name": "python",
   "nbconvert_exporter": "python",
   "pygments_lexer": "ipython3",
   "version": "3.7.2"
  }
 },
 "nbformat": 4,
 "nbformat_minor": 2
}
