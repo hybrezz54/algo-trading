{
 "cells": [
  {
   "cell_type": "markdown",
   "metadata": {},
   "source": [
    "# CADS Algorithmic Trading Project\n",
    "\n",
    "**We will focus on the basics of algorithmic trading for this project. The goal of this project will be to see if we can develop simple algorithms that can generate a positive return. This goal will be left open-ended for now as we will all be learning all the techniques as we go along.**\n",
    "\n",
    "**The following link will introduce you to what algorithmic trading is about: [Basics of algorithmic trading: Concepts and examples](https://www.investopedia.com/articles/active-trading/101014/basics-algorithmic-trading-concepts-and-examples.asp). Please read this before starting!** "
   ]
  },
  {
   "cell_type": "markdown",
   "metadata": {},
   "source": [
    "## What is investing and trading all about?\n",
    "\n",
    "Google defines investing as **giving/spending money with the expectation of earning a profit or material result**. There are multiple ways one can invest their money, for example:\n",
    " - Buying shares of stock on the stock market\n",
    " - Buying foreign currency or cryptocurrency in hopes of its value appreciating\n",
    " - Putting money into the construction of a hotel (has the expectation of using the hotel as a profit later on)\n",
    " - Putting money into the construction of a school (education can be a material gain instead of a profit)\n",
    "\n",
    "However, if one wishes to regularly partake in investing (e.g. buying stock or currency), it becomes a hassle to keep using fiat money (e.g. dollar) to negotiate. Instead, people regularly **trade securities** — [fungible](https://www.investopedia.com/terms/f/fungibility.asp), tradeable assets that represent ownership — on secondary financial markets. For example, stocks are securities and are traded billions of times a day. When someone wants to buy a share of a stock in a company, another person who already owns a share of the stock in the company agrees upon a price to sell them and then the trade executed. **Securities** can be bought and sold for money, too, like stock. Other forms of securities include bonds, cryptocurrency, and certificates of deposit among many others. "
   ]
  },
  {
   "cell_type": "markdown",
   "metadata": {},
   "source": [
    "## How would an investor go about maximizing his/her return?\n",
    "For an investor in the stock market, his/her primary goal is typically to maximize his/her return on investment. Investors only buy the stock if the outlook is **optimistic** — the value/price of the stock is expected to rise — and sell the stock if the outlook is **pessimistic** — the value/price of the stock is expected to fall. In turn, the price/value of a stock will also rise and fall if a lot of investors see their outlook as optimistic and pessimistic, respectively. There a lot of other factors that too influence the value of a stock, but this enough of a overview that shows how the market generally behaves.\n",
    "\n",
    "Stocks can be identified by the trend of their prices. Investors use a variety of techniques to identify such patterns and thus determine if the outlook is optimistic or pessimistic. It is expected for investors to not always be right and lose some money they invest. After all, you win some and lose some! Investors know this and **diversify** their portfolio — the array of securities one currently owns — by investing in different types of companies (i.e. large and small) and sectors (e.g. energy, healthcare, consumer goods). *Why do think this diversifying your portfolio is a good idea?*\n",
    "\n",
    "Algorithmic trading is based on the principle of using a computer instead to recognize the patterns in the stock of a company and place a trade automatically. Investors still have to carefully curate the algorithm based upon the strategies they use to determine if the outlook is optimistic. Algorithmic trading is typically only used for high-volume or lighting-fast trades."
   ]
  },
  {
   "cell_type": "markdown",
   "metadata": {},
   "source": [
    "## Definitions"
   ]
  },
  {
   "cell_type": "markdown",
   "metadata": {},
   "source": [
    "### Opening and Closing\n",
    "\n",
    "The [opening price](https://www.investopedia.com/terms/o/openingprice.asp) is the price at which the stock initially starts trading when the market opens for the most recent business day. For instance, the New York Stock Exchange (NYSE) opens at 9:30am. All of the securities traded on the NYSE has an opening price that was determined by the price of the stock at 9:30am. Due to changes in the market with demand and supply (can happen in response to news and changes to investor expectations), the opening price of the current day is not always equal to the closing price of the previous day.\n",
    "\n",
    "The [closing price](https://www.investopedia.com/terms/c/closingprice.asp) is the final price the stock is when the market closes on the previous business day and represents the most up-to-date valuation of the stock until the next time the market opens. However, sometimes relying on the closing price may give you an inaccurate value for your return like when the stock undergoes a split. Typically, the closing price is reliable enough to use with calculations."
   ]
  },
  {
   "cell_type": "markdown",
   "metadata": {},
   "source": [
    "### Bid and Ask Price\n",
    "The [bid price](https://www.investopedia.com/terms/b/bidprice.asp) is the price a buyer is willing to buy the security for. It refers to the highest price a buyer is willing to purchase the security for. Typical market orders require an investor or trader to sell a security at the current bid price, but instead buyers can buy at the bid price in a limit order.\n",
    "\n",
    "The [ask price](https://www.investopedia.com/terms/a/ask.asp) is the price a seller is willing to sell the security for. It refers to the highest price a seller is willing to sell the security for and will always be higher than the bid price. Typical market orders require an investor or trader to buy a security at the current ask price, but instead sellers can sell at the ask price in a limit order.\n",
    "\n",
    "The difference between the [bid and ask price](https://www.investopedia.com/terms/b/bid-and-ask.asp) is referred to as the bid-ask spread and is an indicator of the asset's [liquidity](https://www.investopedia.com/terms/l/liquidity.asp), or the degree of ease a security can be bought or sold without affecting its price. Generally, a lower bid-ask spread means a higher liquidity and vice versa. Spreads can widen when the stock becomes volatile and there is too much uncertainty in which way the price is going to go and often reflects a lower trading volume.\n",
    "\n",
    "The bid-ask spread also represents profit for [market makers](https://www.investopedia.com/terms/m/marketmaker.asp) like brokerage firms who are compensated for the risk of holding the securities while they are being bought and sold. With high volume trading, tiny amounts in spread can build up to large profits."
   ]
  },
  {
   "cell_type": "markdown",
   "metadata": {},
   "source": [
    "### Price Range\n",
    "The [price range](https://www.investopedia.com/terms/r/range.asp) refers to the difference in the highest price and the lowest price of a security within a specified time period. Most finance website give you the 52-week price range which describes the lowest and highest points in a stock's price in a year. Daily ranges, 5-day, 10-day, and other ranges are also available. The range is a good indicator of a stock's volitility; the greater the range, the higher the volatility."
   ]
  },
  {
   "cell_type": "markdown",
   "metadata": {},
   "source": [
    "### Volume\n",
    "[Volume](https://www.investopedia.com/terms/v/volume.asp) is the number of shares of a security that is traded during a given amount of time. In the stock market, buyers and sellers are agreeing to trade shares of a stock. Once the trade executes, or occurs, the volume increases. Although the volume may initially seem to be an indicator of demand, this is not at the case as more people aren't buying than selling. Instead, volume is in indicator of price strength — when volume increases with a change in price, this indicates a strength in the price movement whether it moves down or up. It also indicates the liquidity of a stock. A low-volume stock will be harder to buy or sell quickly at market price unlike a high-volume stock."
   ]
  },
  {
   "cell_type": "markdown",
   "metadata": {},
   "source": [
    "### Market Cap(italization)\n",
    "The [market capitalization](https://www.investopedia.com/terms/m/marketcapitalization.asp) refers to the market value of the company's outstanding shares, or all the shares held by the company's shareholders. It can be calculated by multiplying the number of outstanding shares by the stock's current market price. The market cap commonly is used to measure a company's size. **Large-cap companies** — companies with a market cap of \\\\$10 billion or more — tend to carry the least risk as they have been in the market for a long time. These mature companies carry a consistent return especially in the long run. **Mid-cap companies** (market cap between \\\\$2-\\\\$10 billion) are also established companies but have not been around for as long as large-cap companies. They are currently experiencing growth and are attractive to investors but carry a higher risk. **Small-cap companies** (market cap between \\\\$300 million-\\\\$2 billion) tend to be either nascent or serve in niche industries and carry the higher risk as they are more sensitive to changes in the economy."
   ]
  },
  {
   "cell_type": "markdown",
   "metadata": {},
   "source": [
    "### Beta Coefficient\n",
    "The [beta coefficient](https://www.investopedia.com/terms/b/beta.asp) is a measure of [volatility](https://www.investopedia.com/terms/v/volatility.asp), or a measure of riskiness, of an individual stock compared to the volatility of the entire market. It also helps investors understand whether the stock moves in the same direction as the market. A beta coefficient of 1.0 means the stock's price is strongly correlated with the market and the stock would be prone to be affected by systemic risk, or the risk of the entire market declining. Adding this stock to your portfolio doesn't increase the risk of your portfolio but also doesn't increase the likelihood of getting more on your return. A beta coefficient less than 1.0 means that the stock is theoretically less volatile than the market, making your portfolio less risky with the stock included. A beta coefficient greater than 1.0 means that the stock is theoretically more volatile than the market."
   ]
  },
  {
   "cell_type": "markdown",
   "metadata": {},
   "source": [
    "### Earnings Per Share (EPS)\n",
    "The [earnings per share](https://www.investopedia.com/terms/e/eps.asp) is the portion of a company's profit that is divided up for each share and serves as an indicator for a company's profitability. By dividing up a stock's price per share by the earnings per share, an investor can see how much the market is willing to pay for each dollar of earnings. This can give the investor an idea about the value of an earnings and can be used as a way to track the company's performance."
   ]
  },
  {
   "cell_type": "markdown",
   "metadata": {},
   "source": [
    "### Price Earnings (P/E) Ratio\n",
    "The [price earnings ratio](https://www.investopedia.com/terms/p/price-earningsratio.asp) measures the value of a company by dividing its earnings per ratio into its current share price. An investor can see how much the market is willing to pay for each dollar of earnings. You can compare the P/E ratio of a company's stock with another to compare the values of their stock. It also shows what the market is willing to pay today for a stock based on its past or future earnings. A high P/E ratio means the stock's price is high relative to its earnings and that it's potentially overvalued. A low P/E ratio means the stock's price is low relative to its earnings."
   ]
  },
  {
   "cell_type": "markdown",
   "metadata": {},
   "source": [
    "### Dividends\n",
    "Investors are rewarded by being paid part of a company's earnings every quarter. The amount that is given to the shareholders is called a [dividend](https://www.investopedia.com/terms/d/dividend.asp). Dividends can increase your return, but, generally, it is a good practice to build your portfolio with a mix of high-dividend-paying and low-dividend-paying stocks. "
   ]
  },
  {
   "cell_type": "markdown",
   "metadata": {},
   "source": [
    "### End of Year Return\n",
    "The [end of year return](https://www.investopedia.com/terms/y/yearly-rate-of-return-method.asp) is the return on your investment at the end of the year. You can use this formula to calculate the percent gain on your initial investment. We will use this formula to analyze the performance of our algorithms."
   ]
  },
  {
   "cell_type": "markdown",
   "metadata": {},
   "source": [
    "### Moving Average\n",
    "The [moving average](https://www.investopedia.com/terms/m/movingaverage.asp) is an average that is updated every period based on the values from the past specified periods. For instance, the **five-day moving average** is computed using the closing price of the past five days from today and finding the average. This average is then updated every day for its respective past five days. Moving averages can be used to identify both short-term and long-term trends that can aid investors in their decisions. Moving averages lag current price action because they are based on past prices — the greater the period, the greater the lag."
   ]
  },
  {
   "cell_type": "markdown",
   "metadata": {},
   "source": [
    "### Bullish vs Bearish\n",
    "*Bullish* and *bearish* are used to describe how markets are performing. A **bull market** refers to a market that is on the rise as market share prices increase. The economy tends to be strong with low levels of unemployment. The demand for buying stock is high in a bull market. A **bear market** refers to a market that is decline as market share prices decrease. The economy tends to slow down with the unemployment rate rising. The demand for selling stock is high in a bear market."
   ]
  },
  {
   "cell_type": "markdown",
   "metadata": {},
   "source": [
    "### Quarterly Earnings Report\n",
    "A [quarterly earnings report](https://www.investopedia.com/terms/e/earningsreport.asp) is published every quarter by a publicly-traded company to inform investors about their performance during the quarter. It included information such as the earnings per share, net income, and net sales. Such information can be used to help investors determine the health and profitability of the company and ultimately gauge whether the company's stock will perform better or worse in the future. Earnings report typically includes updates of the company's income statement, balance sheet, and cash flow statement. The website [Earnings Whispers](https://www.earningswhispers.com) has up-to-date information on when companies release their earnings reports."
   ]
  },
  {
   "cell_type": "markdown",
   "metadata": {},
   "source": [
    "## Strategies"
   ]
  },
  {
   "cell_type": "markdown",
   "metadata": {},
   "source": [
    "### Moving Averages\n",
    "Moving averages carry important signals for investors. Investors often use the **five-day moving average** to determine trends for short-term investing and the **200-day moving average** to determine trends for long-term investing. A rising moving average means the stock is in an uptrend and a declining moving average is in a downtrend.\n",
    "\n",
    "You can use both the short-term and long-term moving averages at the same time to confirm the trends. If the five-day moving average crosses above a 200-day moving average, this indicates a bullish crossover and confirms the upward momentum. If the 5-day moving average crosses below a 200-day moving average, this indicates a bearish crossover and confirms the downward momentum."
   ]
  },
  {
   "cell_type": "markdown",
   "metadata": {},
   "source": [
    "### Exploring Stocks\n",
    "We will be exploring Yahoo Finance for stocks and identifying what the terms learned above means for each stock. Use the chart tool to also identify trends in price, volume, and moving averages. Discuss this among others and compare the stock for the companies you chose."
   ]
  },
  {
   "cell_type": "markdown",
   "metadata": {},
   "source": [
    "## Homework"
   ]
  },
  {
   "cell_type": "markdown",
   "metadata": {},
   "source": [
    "Using Yahoo Finance and the definitions you learnt, find **five** company's stocks that you are optimistic in and would potentially invest in. Also, use the chart feature and compare trends in price, volume, and moving averages that you can use to determine your pick."
   ]
  }
 ],
 "metadata": {
  "kernelspec": {
   "display_name": "Python 3",
   "language": "python",
   "name": "python3"
  },
  "language_info": {
   "codemirror_mode": {
    "name": "ipython",
    "version": 3
   },
   "file_extension": ".py",
   "mimetype": "text/x-python",
   "name": "python",
   "nbconvert_exporter": "python",
   "pygments_lexer": "ipython3",
   "version": "3.7.2"
  }
 },
 "nbformat": 4,
 "nbformat_minor": 2
}
