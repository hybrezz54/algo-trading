{
 "cells": [
  {
   "cell_type": "markdown",
   "metadata": {},
   "source": [
    "# CADS Algorithmic Trading Project\n",
    "\n",
    "**We will focus on the basics of algorithmic trading for this project. The goal of this project will be to see if we can develop simple algorithms that can generate a positive return. This goal will be left open-ended for now as we will all be learning all the techniques as we go along.**\n",
    "\n",
    "**The following link will introduce you to what algorithmic trading is about: [Basics of algorithmic trading: Concepts and examples](https://www.investopedia.com/articles/active-trading/101014/basics-algorithmic-trading-concepts-and-examples.asp). Please read this before starting!** "
   ]
  },
  {
   "cell_type": "markdown",
   "metadata": {},
   "source": [
    "## What is investing and trading all about?\n",
    "\n",
    "Google defines investing as **giving/spending money with the expectation of earning a profit or material result**. There are multiple ways one can invest their money, for example:\n",
    " - Buying shares of stock on the stock market\n",
    " - Buying foreign currency or cryptocurrency in hopes of its value appreciating\n",
    " - Putting money into the construction of a hotel (has the expectation of using the hotel as a profit later on)\n",
    " - Putting money into the construction of a school (education can be a material gain instead of a profit)\n",
    "\n",
    "However, if one wishes to regularly partake in investing (e.g. buying stock or currency), it becomes a hassle to keep using fiat money (e.g. dollar) to negotiate. Instead, people regularly **trade securities** — [fungible](https://www.investopedia.com/terms/f/fungibility.asp), tradeable assets that represent ownership — on secondary financial markets. For example, stocks are securities and are traded billions of times a day. When someone wants to buy a share of a stock in a company, another person who already owns a share of the stock in the company agrees upon a price to sell them and then the trade executed. **Securities** can be bought and sold for money, too, like stock. Other forms of securities include bonds, cryptocurrency, and certificates of deposit among many others. "
   ]
  },
  {
   "cell_type": "markdown",
   "metadata": {},
   "source": [
    "## How would an investor go about maximizing his/her return?\n",
    "For an investor in the stock market, his/her primary goal is typically to maximize his/her return on investment. Investors only buy the stock if the outlook is **optimistic** — the value/price of the stock is expected to rise — and sell the stock if the outlook is **pessimistic** — the value/price of the stock is expected to fall. In turn, the price/value of a stock will also rise and fall if a lot of investors see their outlook as optimistic and pessimistic, respectively. There a lot of other factors that too influence the value of a stock, but this enough of a overview that shows how the market generally behaves.\n",
    "\n",
    "Stocks can be identified by the trend of their prices. Investors use a variety of techniques to identify such patterns and thus determine if the outlook is optimistic or pessimistic. It is expected for investors to not always be right and lose some money they invest. After all, you win some and lose some! Investors know this and **diversify** their portfolio — the array of securities one currently owns — by investing in different types of companies (i.e. large and small) and sectors (e.g. energy, healthcare, consumer goods). *Why do think this diversifying your portfolio is a good idea?*\n",
    "\n",
    "Algorithmic trading is based on the principle of using a computer instead to recognize the patterns in the stock of a company and place a trade automatically. Investors still have to carefully curate the algorithm based upon the strategies they use to determine if the outlook is optimistic. Algorithmic trading is typically only used for high-volume or lighting-fast trades."
   ]
  },
  {
   "cell_type": "markdown",
   "metadata": {},
   "source": [
    "## Definitions"
   ]
  },
  {
   "cell_type": "markdown",
   "metadata": {},
   "source": [
    "### Opening and Closing\n",
    "\n",
    "The [opening price](https://www.investopedia.com/terms/o/openingprice.asp) is the price at which the stock initially starts trading when the market opens for the most recent business day. For instance, the New York Stock Exchange (NYSE) opens at 9:30am. All of the securities traded on the NYSE has an opening price that was determined by the price of the stock at 9:30am. Due to changes in the market with demand and supply (can happen in response to news and changes to investor expectations), the opening price of the current day is not always equal to the closing price of the previous day.\n",
    "\n",
    "The [closing price](https://www.investopedia.com/terms/c/closingprice.asp) is the final price the stock is when the market closes on the previous business day and represents the most up-to-date valuation of the stock until the next time the market opens. However, sometimes relying on the closing price may give you an inaccurate value for your return like when the stock undergoes a split. Typically, the closing price is reliable enough to use with calculations."
   ]
  },
  {
   "cell_type": "markdown",
   "metadata": {},
   "source": [
    "### Bid and Ask Price\n",
    "The [bid price](https://www.investopedia.com/terms/b/bidprice.asp) is the price a buyer is willing to buy the security for. It refers to the highest price a buyer is willing to purchase the security for. Typical market orders require an investor or trader to sell a security at the current bid price, but instead buyers can buy at the bid price in a limit order.\n",
    "\n",
    "The [ask price](https://www.investopedia.com/terms/a/ask.asp) is the price a seller is willing to sell the security for. It refers to the highest price a seller is willing to sell the security for and will always be higher than the bid price. Typical market orders require an investor or trader to buy a security at the current ask price, but instead sellers can sell at the ask price in a limit order.\n",
    "\n",
    "The difference between the [bid and ask price](https://www.investopedia.com/terms/b/bid-and-ask.asp) is referred to as the bid-ask spread and is an indicator of the asset's [liquidity](https://www.investopedia.com/terms/l/liquidity.asp), or the degree of ease a security can be bought or sold without affecting its price. Generally, a lower bid-ask spread means a higher liquidity and vice versa. Spreads can widen when the stock becomes volatile and there is too much uncertainty in which way the price is going to go and often reflects a lower trading volume.\n",
    "\n",
    "The bid-ask spread also represents profit for [market makers](https://www.investopedia.com/terms/m/marketmaker.asp) like brokerage firms who are compensated for the risk of holding the securities while they are being bought and sold. With high volume trading, tiny amounts in spread can build up to large profits."
   ]
  },
  {
   "cell_type": "markdown",
   "metadata": {},
   "source": [
    "### Price Range\n",
    "The [price range](https://www.investopedia.com/terms/r/range.asp) refers to the difference in the highest price and the lowest price of a security within a specified time period. Most finance website give you the 52-week price range which describes the lowest and highest points in a stock's price in a year. Daily ranges, 5-day, 10-day, and other ranges are also available. The range is a good indicator of a stock's volitility; the greater the range, the higher the volatility."
   ]
  },
  {
   "cell_type": "markdown",
   "metadata": {},
   "source": [
    "### Volume\n",
    "Volume is the number of shares of a security that is traded during a given amount of time. In the stock market, "
   ]
  },
  {
   "cell_type": "markdown",
   "metadata": {},
   "source": [
    "### Market Cap(italization)"
   ]
  },
  {
   "cell_type": "markdown",
   "metadata": {},
   "source": [
    "### Beta Coefficient"
   ]
  },
  {
   "cell_type": "markdown",
   "metadata": {},
   "source": [
    "### Earnings Per Share (EPS)"
   ]
  },
  {
   "cell_type": "markdown",
   "metadata": {},
   "source": [
    "### Price Earnings (P/E) Ratio"
   ]
  },
  {
   "cell_type": "markdown",
   "metadata": {},
   "source": [
    "### Dividends"
   ]
  },
  {
   "cell_type": "markdown",
   "metadata": {},
   "source": [
    "### End of Year Return"
   ]
  },
  {
   "cell_type": "markdown",
   "metadata": {},
   "source": [
    "### Moving Average"
   ]
  },
  {
   "cell_type": "markdown",
   "metadata": {},
   "source": [
    "### Bullish vs Bearish"
   ]
  },
  {
   "cell_type": "markdown",
   "metadata": {},
   "source": [
    "### Quarterly Earnings Report"
   ]
  },
  {
   "cell_type": "markdown",
   "metadata": {},
   "source": [
    "## Strategies"
   ]
  },
  {
   "cell_type": "markdown",
   "metadata": {},
   "source": [
    "### Moving Averages\n",
    "..."
   ]
  }
 ],
 "metadata": {
  "kernelspec": {
   "display_name": "Python 3",
   "language": "python",
   "name": "python3"
  },
  "language_info": {
   "codemirror_mode": {
    "name": "ipython",
    "version": 3
   },
   "file_extension": ".py",
   "mimetype": "text/x-python",
   "name": "python",
   "nbconvert_exporter": "python",
   "pygments_lexer": "ipython3",
   "version": "3.7.2"
  }
 },
 "nbformat": 4,
 "nbformat_minor": 2
}
