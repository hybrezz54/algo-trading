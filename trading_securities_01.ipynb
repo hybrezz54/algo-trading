{
 "cells": [
  {
   "cell_type": "markdown",
   "metadata": {},
   "source": [
    "# CADS Algorithmic Trading Project\n",
    "\n",
    "**We will focus on the basics of algorithmic trading for this project. The goal of this project will be to see if we can develop simple algorithms that can generate a positive return. This goal will be left open-ended for now as we will all be learning all the techniques as we go along.**\n",
    "\n",
    "**The following link will introduce you to what algorithmic trading is about: [Basics of algorithmic trading: Concepts and examples](https://www.investopedia.com/articles/active-trading/101014/basics-algorithmic-trading-concepts-and-examples.asp). Please read this before starting!** "
   ]
  },
  {
   "cell_type": "markdown",
   "metadata": {},
   "source": [
    "## What is investing and trading all about?\n",
    "\n",
    "Google defines investing as **giving/spending money with the expectation of earning a profit or material result**. There are multiple ways one can invest their money, for example:\n",
    " - Buying shares of stock on the stock market\n",
    " - Buying foreign currency or cryptocurrency in hopes of its value appreciating\n",
    " - Putting money into the construction of a hotel (has the expectation of using the hotel as a profit later on)\n",
    " - Putting money into the construction of a school (education can be a material gain instead of a profit)\n",
    "\n",
    "However, if one wishes to regularly partake in investing (e.g. buying stock or currency), it becomes a hassle to keep using fiat money (e.g. dollar) to negotiate. Instead, people regularly **trade securities** — [fungible](https://www.investopedia.com/terms/f/fungibility.asp), tradeable assets that represent ownership — on secondary financial markets. For example, stocks are securities and are traded billions of times a day. When someone wants to buy a share of a stock in a company, another person who already owns a share of the stock in the company agrees upon a price to sell them and then the trade executed. **Securities** can be bought and sold for money, too, like stock. Other forms of securities include bonds, cryptocurrency, and certificates of deposit among many others. "
   ]
  },
  {
   "cell_type": "markdown",
   "metadata": {},
   "source": [
    "## How would an investor go about maximizing his/her return?\n",
    "For an investor in the stock market, his/her primary goal is typically to maximize his/her return on investment. Investors only buy the stock if the outlook is **optimistic** — the value/price of the stock is expected to rise — and sell the stock if the outlook is **pessimistic** — the value/price of the stock is expected to fall. In turn, the price/value of a stock will also rise and fall if a lot of investors see their outlook as optimistic and pessimistic, respectively. There a lot of other factors that too influence the value of a stock, but this enough of a overview that shows how the market generally behaves.\n",
    "\n",
    "Stocks can be identified by the trend of their prices. Investors use a variety of techniques to identify such patterns and thus determine if the outlook is optimistic or pessimistic. It is expected for investors to not always be right and lose some money they invest. After all, you win some and lose some! Investors know this and **diversify** their portfolio — the array of securities one currently owns — by investing in different types of companies (i.e. large and small) and sectors (e.g. energy, healthcare, consumer goods). *Why do think this diversifying your portfolio is a good idea?*\n",
    "\n",
    "Algorithmic trading is based on the principle of using a computer instead to recognize the patterns in the stock of a company and place a trade automatically. Investors still have to carefully curate the algorithm based upon the strategies they use to determine if the outlook is optimistic. Algorithmic trading is typically only used for high-volume or lighting-fast trades."
   ]
  },
  {
   "cell_type": "markdown",
   "metadata": {},
   "source": [
    "## Strategies"
   ]
  },
  {
   "cell_type": "markdown",
   "metadata": {},
   "source": [
    "### Moving Averages\n",
    "..."
   ]
  }
 ],
 "metadata": {
  "kernelspec": {
   "display_name": "Python 3",
   "language": "python",
   "name": "python3"
  },
  "language_info": {
   "codemirror_mode": {
    "name": "ipython",
    "version": 3
   },
   "file_extension": ".py",
   "mimetype": "text/x-python",
   "name": "python",
   "nbconvert_exporter": "python",
   "pygments_lexer": "ipython3",
   "version": "3.7.2"
  }
 },
 "nbformat": 4,
 "nbformat_minor": 2
}
